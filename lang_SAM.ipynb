{
 "cells": [
  {
   "cell_type": "code",
   "execution_count": 1,
   "id": "ef4985b2",
   "metadata": {},
   "outputs": [],
   "source": [
    "%load_ext autoreload\n",
    "%autoreload 2"
   ]
  },
  {
   "cell_type": "code",
   "execution_count": 2,
   "id": "673e9c70",
   "metadata": {},
   "outputs": [
    {
     "name": "stderr",
     "output_type": "stream",
     "text": [
      "/home/shuozhao/anaconda3/envs/lsa/lib/python3.9/site-packages/groundingdino/models/GroundingDINO/ms_deform_attn.py:31: UserWarning: Failed to load custom C++ ops. Running on CPU mode Only!\n",
      "  warnings.warn(\"Failed to load custom C++ ops. Running on CPU mode Only!\")\n"
     ]
    }
   ],
   "source": [
    "from pathlib import Path\n",
    "import cv2\n",
    "import numpy as np\n",
    "from tqdm.notebook import tqdm\n",
    "from matplotlib import pyplot as plt\n",
    "from PIL import Image\n",
    "from lang_sam import LangSAM"
   ]
  },
  {
   "cell_type": "code",
   "execution_count": 3,
   "id": "1dfee9fd",
   "metadata": {},
   "outputs": [],
   "source": [
    "# os.environ['http_proxy'] = \"http://10.200.13.85:3128\"\n",
    "# os.environ['https_proxy'] = \"http://10.200.13.85:3128\""
   ]
  },
  {
   "cell_type": "code",
   "execution_count": 4,
   "id": "1a1aa648",
   "metadata": {},
   "outputs": [],
   "source": [
    "def cutOutObj(img, mask, space=10):\n",
    "    x, y, w, h = cv2.boundingRect(mask)\n",
    "    cutout = img[y:y+h, x:x+w]\n",
    "    cutout_brga = cv2.cvtColor(cutout, cv2.COLOR_RGB2BGRA)\n",
    "    cutout_brga[...,3] = mask[y:y+h, x:x+w]\n",
    "    n_rows, n_cols = cutout_brga.shape[:2]\n",
    "    cutout_pad = np.zeros([n_rows+space*2, n_cols+space*2, 4], dtype=np.uint8)\n",
    "    cutout_pad[space:n_rows+space, space:n_cols+space,:] = cutout_brga\n",
    "    return cutout_pad"
   ]
  },
  {
   "cell_type": "code",
   "execution_count": 5,
   "id": "d8b95a55",
   "metadata": {},
   "outputs": [],
   "source": [
    "def contrastEnhance(img):\n",
    "    b, g, r = cv2.split(img)\n",
    "    b1 = cv2.equalizeHist(b)\n",
    "    g1 = cv2.equalizeHist(g)\n",
    "    r1 = cv2.equalizeHist(r)\n",
    "    o_img = cv2.merge([b1,g1,r1])\n",
    "    return o_img"
   ]
  },
  {
   "cell_type": "code",
   "execution_count": 6,
   "id": "77788848",
   "metadata": {},
   "outputs": [
    {
     "name": "stderr",
     "output_type": "stream",
     "text": [
      "'(MaxRetryError(\"HTTPSConnectionPool(host='huggingface.co', port=443): Max retries exceeded with url: /ShilongLiu/GroundingDINO/resolve/main/GroundingDINO_SwinB.cfg.py (Caused by ConnectTimeoutError(<urllib3.connection.HTTPSConnection object at 0x7ffac91a5b20>, 'Connection to huggingface.co timed out. (connect timeout=10)'))\"), '(Request ID: f719d7e8-ba3f-4713-b81d-e41a67805503)')' thrown while requesting HEAD https://huggingface.co/ShilongLiu/GroundingDINO/resolve/main/GroundingDINO_SwinB.cfg.py\n",
      "/home/shuozhao/anaconda3/envs/lsa/lib/python3.9/site-packages/torch/functional.py:504: UserWarning: torch.meshgrid: in an upcoming release, it will be required to pass the indexing argument. (Triggered internally at ../aten/src/ATen/native/TensorShape.cpp:3526.)\n",
      "  return _VF.meshgrid(tensors, **kwargs)  # type: ignore[attr-defined]\n"
     ]
    },
    {
     "name": "stdout",
     "output_type": "stream",
     "text": [
      "final text_encoder_type: bert-base-uncased\n"
     ]
    },
    {
     "name": "stderr",
     "output_type": "stream",
     "text": [
      "'(MaxRetryError(\"HTTPSConnectionPool(host='huggingface.co', port=443): Max retries exceeded with url: /bert-base-uncased/resolve/main/tokenizer_config.json (Caused by ConnectTimeoutError(<urllib3.connection.HTTPSConnection object at 0x7ffabf0db850>, 'Connection to huggingface.co timed out. (connect timeout=10)'))\"), '(Request ID: d117e7bd-9b42-491e-b27c-a1860894c264)')' thrown while requesting HEAD https://huggingface.co/bert-base-uncased/resolve/main/tokenizer_config.json\n",
      "'(MaxRetryError(\"HTTPSConnectionPool(host='huggingface.co', port=443): Max retries exceeded with url: /bert-base-uncased/resolve/main/config.json (Caused by ConnectTimeoutError(<urllib3.connection.HTTPSConnection object at 0x7ff981435dc0>, 'Connection to huggingface.co timed out. (connect timeout=10)'))\"), '(Request ID: f35a5911-fc2c-49cf-a83a-b5d7fe64cd8e)')' thrown while requesting HEAD https://huggingface.co/bert-base-uncased/resolve/main/config.json\n",
      "'(MaxRetryError(\"HTTPSConnectionPool(host='huggingface.co', port=443): Max retries exceeded with url: /bert-base-uncased/resolve/main/config.json (Caused by ConnectTimeoutError(<urllib3.connection.HTTPSConnection object at 0x7ffabf0280a0>, 'Connection to huggingface.co timed out. (connect timeout=10)'))\"), '(Request ID: 715d6602-998e-480e-81e7-20e79683de68)')' thrown while requesting HEAD https://huggingface.co/bert-base-uncased/resolve/main/config.json\n",
      "'(MaxRetryError(\"HTTPSConnectionPool(host='huggingface.co', port=443): Max retries exceeded with url: /ShilongLiu/GroundingDINO/resolve/main/groundingdino_swinb_cogcoor.pth (Caused by ConnectTimeoutError(<urllib3.connection.HTTPSConnection object at 0x7ff9812e5340>, 'Connection to huggingface.co timed out. (connect timeout=10)'))\"), '(Request ID: d48bf6c6-af44-44eb-81c6-3e1e9a96a69d)')' thrown while requesting HEAD https://huggingface.co/ShilongLiu/GroundingDINO/resolve/main/groundingdino_swinb_cogcoor.pth\n"
     ]
    },
    {
     "name": "stdout",
     "output_type": "stream",
     "text": [
      "Model loaded from /home/shuozhao/.cache/huggingface/hub/models--ShilongLiu--GroundingDINO/snapshots/a94c9b567a2a374598f05c584e96798a170c56fb/groundingdino_swinb_cogcoor.pth \n",
      " => _IncompatibleKeys(missing_keys=[], unexpected_keys=['label_enc.weight', 'bert.embeddings.position_ids'])\n"
     ]
    }
   ],
   "source": [
    "model = LangSAM(\"vit_h\", \"/data2/shuozhao/DigitalAuto/sam_models/sam_vit_h_4b8939.pth\")"
   ]
  },
  {
   "cell_type": "code",
   "execution_count": 17,
   "id": "019a202a",
   "metadata": {},
   "outputs": [],
   "source": [
    "slice_width = 2048\n",
    "slice_height = 2048\n",
    "slice_stride = 512\n",
    "whole_img_path = Path(\"/data2/shuozhao/DigitalAuto/wutai/whole_img.jpg\")\n",
    "output_path = Path(\"pictures/cutouts/temple\")\n",
    "text_prompt = \"temples\""
   ]
  },
  {
   "cell_type": "code",
   "execution_count": 12,
   "id": "d2427603",
   "metadata": {},
   "outputs": [],
   "source": [
    "whole_img = cv2.imread(str(whole_img_path))\n",
    "whole_img = cv2.cvtColor(whole_img, cv2.COLOR_BGR2RGB)"
   ]
  },
  {
   "cell_type": "code",
   "execution_count": 13,
   "id": "bb7f47eb",
   "metadata": {},
   "outputs": [],
   "source": [
    "img_height, img_width = whole_img.shape[:2]"
   ]
  },
  {
   "cell_type": "code",
   "execution_count": 18,
   "id": "21f9346f",
   "metadata": {},
   "outputs": [
    {
     "data": {
      "application/vnd.jupyter.widget-view+json": {
       "model_id": "6257b84833f440a49cb8e07b1d1bf5ec",
       "version_major": 2,
       "version_minor": 0
      },
      "text/plain": [
       "  0%|          | 0/11 [00:00<?, ?it/s]"
      ]
     },
     "metadata": {},
     "output_type": "display_data"
    }
   ],
   "source": [
    "for row in tqdm(range(0, img_height, slice_height-slice_stride)):\n",
    "    for col in range(0, img_width, slice_width-slice_stride):\n",
    "        slice_img = whole_img[row:row+slice_height, col:col+slice_width]\n",
    "        img_aug = contrastEnhance(slice_img)\n",
    "        pil_img = Image.fromarray(img_aug)\n",
    "        \n",
    "        masks, boxes, phrases, logits = model.predict(pil_img, text_prompt)\n",
    "        masks = masks.numpy().astype(np.uint8)*255\n",
    "        for idx, mask in enumerate(masks):\n",
    "            img_bgra = cutOutObj(slice_img, mask)\n",
    "            cv2.imwrite(str(output_path/f'row_{row}_col_{col}_mask_{idx}.png'),img_bgra)\n"
   ]
  },
  {
   "cell_type": "code",
   "execution_count": null,
   "id": "6a828f6b",
   "metadata": {},
   "outputs": [],
   "source": []
  }
 ],
 "metadata": {
  "kernelspec": {
   "display_name": "lsa",
   "language": "python",
   "name": "lsa"
  },
  "language_info": {
   "codemirror_mode": {
    "name": "ipython",
    "version": 3
   },
   "file_extension": ".py",
   "mimetype": "text/x-python",
   "name": "python",
   "nbconvert_exporter": "python",
   "pygments_lexer": "ipython3",
   "version": "3.9.18"
  },
  "varInspector": {
   "cols": {
    "lenName": 16,
    "lenType": 16,
    "lenVar": 40
   },
   "kernels_config": {
    "python": {
     "delete_cmd_postfix": "",
     "delete_cmd_prefix": "del ",
     "library": "var_list.py",
     "varRefreshCmd": "print(var_dic_list())"
    },
    "r": {
     "delete_cmd_postfix": ") ",
     "delete_cmd_prefix": "rm(",
     "library": "var_list.r",
     "varRefreshCmd": "cat(var_dic_list()) "
    }
   },
   "types_to_exclude": [
    "module",
    "function",
    "builtin_function_or_method",
    "instance",
    "_Feature"
   ],
   "window_display": false
  }
 },
 "nbformat": 4,
 "nbformat_minor": 5
}
